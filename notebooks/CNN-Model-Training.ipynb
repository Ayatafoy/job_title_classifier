{
 "cells": [
  {
   "cell_type": "code",
   "execution_count": 1,
   "metadata": {},
   "outputs": [
    {
     "name": "stdout",
     "output_type": "stream",
     "text": [
      "Collecting scikit-learn\n",
      "  Using cached scikit_learn-1.0.1-cp37-cp37m-macosx_10_13_x86_64.whl (7.9 MB)\n",
      "Requirement already satisfied: numpy>=1.14.6 in /Users/aromanov/Desktop/Pheon task/job_title_classifier/job_classifier_env/lib/python3.7/site-packages (from scikit-learn) (1.21.4)\n",
      "Collecting joblib>=0.11\n",
      "  Using cached joblib-1.1.0-py2.py3-none-any.whl (306 kB)\n",
      "Collecting scipy>=1.1.0\n",
      "  Using cached scipy-1.7.2-cp37-cp37m-macosx_10_9_x86_64.whl (33.0 MB)\n",
      "Collecting threadpoolctl>=2.0.0\n",
      "  Using cached threadpoolctl-3.0.0-py3-none-any.whl (14 kB)\n",
      "Installing collected packages: threadpoolctl, scipy, joblib, scikit-learn\n",
      "Successfully installed joblib-1.1.0 scikit-learn-1.0.1 scipy-1.7.2 threadpoolctl-3.0.0\n"
     ]
    }
   ],
   "source": [
    "!pip install -U scikit-learn"
   ]
  },
  {
   "cell_type": "code",
   "execution_count": null,
   "metadata": {},
   "outputs": [],
   "source": [
    "!pip install pandas"
   ]
  },
  {
   "cell_type": "code",
   "execution_count": 4,
   "metadata": {},
   "outputs": [
    {
     "name": "stdout",
     "output_type": "stream",
     "text": [
      "Collecting keras==2.0.8\n",
      "  Downloading Keras-2.0.8-py2.py3-none-any.whl (276 kB)\n",
      "     |████████████████████████████████| 276 kB 1.2 MB/s            \n",
      "\u001b[?25hCollecting six>=1.9.0\n",
      "  Using cached six-1.16.0-py2.py3-none-any.whl (11 kB)\n",
      "Collecting pyyaml\n",
      "  Using cached PyYAML-6.0-cp37-cp37m-macosx_10_9_x86_64.whl (189 kB)\n",
      "Collecting numpy>=1.9.1\n",
      "  Using cached numpy-1.21.4-cp37-cp37m-macosx_10_9_x86_64.whl (16.9 MB)\n",
      "Collecting scipy>=0.14\n",
      "  Using cached scipy-1.7.2-cp37-cp37m-macosx_10_9_x86_64.whl (33.0 MB)\n",
      "Installing collected packages: numpy, six, scipy, pyyaml, keras\n",
      "  Attempting uninstall: numpy\n",
      "    Found existing installation: numpy 1.21.4\n",
      "    Uninstalling numpy-1.21.4:\n",
      "      Successfully uninstalled numpy-1.21.4\n",
      "  Attempting uninstall: six\n",
      "    Found existing installation: six 1.16.0\n",
      "    Uninstalling six-1.16.0:\n",
      "      Successfully uninstalled six-1.16.0\n",
      "  Attempting uninstall: keras\n",
      "    Found existing installation: keras 2.7.0\n",
      "    Uninstalling keras-2.7.0:\n",
      "      Successfully uninstalled keras-2.7.0\n",
      "Successfully installed keras-2.0.8 numpy-1.21.4 pyyaml-6.0 scipy-1.7.2 six-1.16.0\n"
     ]
    }
   ],
   "source": [
    "!pip install tensorflow"
   ]
  },
  {
   "cell_type": "code",
   "execution_count": 1,
   "metadata": {},
   "outputs": [
    {
     "name": "stdout",
     "output_type": "stream",
     "text": [
      "Requirement already satisfied: nltk in /Users/aromanov/Desktop/Pheon task/job_title_classifier/job_classifier_env/lib/python3.7/site-packages (3.6.5)\n",
      "Requirement already satisfied: joblib in /Users/aromanov/Desktop/Pheon task/job_title_classifier/job_classifier_env/lib/python3.7/site-packages (from nltk) (1.1.0)\n",
      "Requirement already satisfied: regex>=2021.8.3 in /Users/aromanov/Desktop/Pheon task/job_title_classifier/job_classifier_env/lib/python3.7/site-packages (from nltk) (2021.11.2)\n",
      "Requirement already satisfied: tqdm in /Users/aromanov/Desktop/Pheon task/job_title_classifier/job_classifier_env/lib/python3.7/site-packages (from nltk) (4.62.3)\n",
      "Requirement already satisfied: click in /Users/aromanov/Desktop/Pheon task/job_title_classifier/job_classifier_env/lib/python3.7/site-packages (from nltk) (8.0.3)\n",
      "Requirement already satisfied: importlib-metadata in /Users/aromanov/Desktop/Pheon task/job_title_classifier/job_classifier_env/lib/python3.7/site-packages (from click->nltk) (4.8.1)\n",
      "Requirement already satisfied: zipp>=0.5 in /Users/aromanov/Desktop/Pheon task/job_title_classifier/job_classifier_env/lib/python3.7/site-packages (from importlib-metadata->click->nltk) (3.6.0)\n",
      "Requirement already satisfied: typing-extensions>=3.6.4 in /Users/aromanov/Desktop/Pheon task/job_title_classifier/job_classifier_env/lib/python3.7/site-packages (from importlib-metadata->click->nltk) (3.10.0.2)\n"
     ]
    }
   ],
   "source": [
    "!pip install nltk"
   ]
  },
  {
   "cell_type": "code",
   "execution_count": 16,
   "metadata": {
    "scrolled": true
   },
   "outputs": [
    {
     "name": "stderr",
     "output_type": "stream",
     "text": [
      "[nltk_data] Downloading package wordnet to\n",
      "[nltk_data]     /Users/aromanov/nltk_data...\n",
      "[nltk_data]   Package wordnet is already up-to-date!\n",
      "[nltk_data] Downloading package stopwords to\n",
      "[nltk_data]     /Users/aromanov/nltk_data...\n",
      "[nltk_data]   Package stopwords is already up-to-date!\n"
     ]
    }
   ],
   "source": [
    "from keras.models import Sequential\n",
    "from keras.layers import Conv1D, GlobalMaxPooling1D, Embedding, LSTM\n",
    "from keras.layers.core import Dense, Dropout, Activation\n",
    "from keras.preprocessing.text import Tokenizer\n",
    "from keras import metrics, regularizers\n",
    "from keras.preprocessing import sequence\n",
    "import pandas as pd\n",
    "import keras\n",
    "import pickle\n",
    "import string\n",
    "import nltk\n",
    "from nltk.corpus import stopwords\n",
    "nltk.download('wordnet')\n",
    "nltk.download('stopwords')\n",
    "\n",
    "from nltk.stem import WordNetLemmatizer\n",
    "from sklearn.model_selection import train_test_split\n",
    "from sklearn.preprocessing import LabelBinarizer"
   ]
  },
  {
   "cell_type": "code",
   "execution_count": 17,
   "metadata": {},
   "outputs": [],
   "source": [
    "wordnet_lemmatizer = WordNetLemmatizer()"
   ]
  },
  {
   "cell_type": "code",
   "execution_count": 18,
   "metadata": {},
   "outputs": [],
   "source": [
    "def remove_punctuation(text):\n",
    "    punctuationfree = \"\".join([i for i in text if i not in string.punctuation])\n",
    "    return punctuationfree\n",
    "\n",
    "\n",
    "def lemmatizer(text):\n",
    "    if len(text.split(' ')) == 1:\n",
    "        text = [text]\n",
    "    else:\n",
    "        text = text.split(' ')\n",
    "    lemm_text = \" \".join([wordnet_lemmatizer.lemmatize(word) for word in text])\n",
    "    return lemm_text\n",
    "\n",
    "\n",
    "def remove_stopwords(text):\n",
    "    if len(text.split(' ')) == 1:\n",
    "        text = [text]\n",
    "    else:\n",
    "        text = text.split(' ')\n",
    "\n",
    "    output = [i for i in text if i not in stopwords.words('english')]\n",
    "    output = \" \".join(output)\n",
    "\n",
    "    return output\n",
    "\n",
    "\n",
    "def preprocess_str(text):\n",
    "    text = text.strip()\n",
    "    text = text.lower()\n",
    "    text = remove_punctuation(text)\n",
    "    text = remove_stopwords(text)\n",
    "    text = lemmatizer(text)\n",
    "    return text"
   ]
  },
  {
   "cell_type": "code",
   "execution_count": 19,
   "metadata": {},
   "outputs": [],
   "source": [
    "jobs_dataset = pd.read_csv('../data/JobsDataset.csv')[['Job Title', 'Query']]\n",
    "jobs_dataset['Job Title'] = jobs_dataset['Job Title'].apply(lambda x: preprocess_str(x))\n",
    "jobs_dataset = jobs_dataset.dropna().drop_duplicates()"
   ]
  },
  {
   "cell_type": "code",
   "execution_count": 20,
   "metadata": {},
   "outputs": [
    {
     "data": {
      "text/plain": [
       "0                    junior data scientist apprenticeship\n",
       "1                      hbo data scientist content science\n",
       "2                                   junior data scientist\n",
       "3                                       jr data scientist\n",
       "4                          data scientist premium content\n",
       "                              ...                        \n",
       "9970                            lead enterprise architect\n",
       "9972                        lead infrastructure architect\n",
       "9973                              microservices developer\n",
       "9979                             virtualization architect\n",
       "9998    software development engineer full stack – ent...\n",
       "Name: Job Title, Length: 7248, dtype: object"
      ]
     },
     "execution_count": 20,
     "metadata": {},
     "output_type": "execute_result"
    }
   ],
   "source": [
    "jobs_dataset['Job Title']"
   ]
  },
  {
   "cell_type": "code",
   "execution_count": 22,
   "metadata": {},
   "outputs": [],
   "source": [
    "vocab = set([])\n",
    "\n",
    "for title in jobs_dataset['Job Title']:\n",
    "    words = title.split(' ')\n",
    "    for word in words:\n",
    "        vocab.add(word)"
   ]
  },
  {
   "cell_type": "code",
   "execution_count": 25,
   "metadata": {},
   "outputs": [],
   "source": [
    "#Split the dataset to Training and Test subsets (90/10)\n",
    "train, test = train_test_split(jobs_dataset, test_size = 0.1, random_state = 17) #random_state = None\n",
    "\n",
    "train_titles = train['Job Title']\n",
    "train_labels = train['Query']\n",
    " \n",
    "test_titles = test['Job Title']\n",
    "test_labels = test['Query']"
   ]
  },
  {
   "cell_type": "code",
   "execution_count": 37,
   "metadata": {},
   "outputs": [],
   "source": [
    "# Model Parameters\n",
    "vocab_size = len(vocab)\n",
    "\n",
    "sequences_length = 32\n",
    "\n",
    "embedding_dimensionality = 100 #possibly low??\n",
    "max_features = vocab_size #equal to vocab_size\n",
    "\n",
    "num_labels = len(train_labels.unique())\n",
    "batch_size = 32\n",
    "nb_epoch = 20\n",
    "\n",
    "nof_filters = 200\n",
    "kernel_size = 16\n",
    "\n",
    "hidden_dims = 512"
   ]
  },
  {
   "cell_type": "code",
   "execution_count": 38,
   "metadata": {},
   "outputs": [],
   "source": [
    "# Convert Texts to Numeric Vectors for Input\n",
    "tokenizer = Tokenizer(num_words = vocab_size)\n",
    "tokenizer.fit_on_texts(train_titles)\n",
    "\n",
    "x_train = tokenizer.texts_to_sequences(train_titles)\n",
    "x_test = tokenizer.texts_to_sequences(test_titles)\n",
    "\n",
    "x_train = sequence.pad_sequences(x_train, maxlen = sequences_length, padding = 'post')\n",
    "x_test = sequence.pad_sequences(x_test, maxlen = sequences_length, padding = 'post')\n",
    "\n",
    "encoder = LabelBinarizer()\n",
    "encoder.fit(train_labels)\n",
    "y_train = encoder.transform(train_labels)\n",
    "y_test = encoder.transform(test_labels)"
   ]
  },
  {
   "cell_type": "code",
   "execution_count": 39,
   "metadata": {},
   "outputs": [
    {
     "name": "stdout",
     "output_type": "stream",
     "text": [
      "Model: \"sequential_3\"\n",
      "_________________________________________________________________\n",
      " Layer (type)                Output Shape              Param #   \n",
      "=================================================================\n",
      " embedding_3 (Embedding)     (None, 32, 100)           345700    \n",
      "                                                                 \n",
      " conv1d_3 (Conv1D)           (None, 17, 200)           320200    \n",
      "                                                                 \n",
      " global_max_pooling1d_3 (Glo  (None, 200)              0         \n",
      " balMaxPooling1D)                                                \n",
      "                                                                 \n",
      " dense_6 (Dense)             (None, 512)               102912    \n",
      "                                                                 \n",
      " dropout_3 (Dropout)         (None, 512)               0         \n",
      "                                                                 \n",
      " activation_6 (Activation)   (None, 512)               0         \n",
      "                                                                 \n",
      " dense_7 (Dense)             (None, 25)                12825     \n",
      "                                                                 \n",
      " activation_7 (Activation)   (None, 25)                0         \n",
      "                                                                 \n",
      "=================================================================\n",
      "Total params: 781,637\n",
      "Trainable params: 781,637\n",
      "Non-trainable params: 0\n",
      "_________________________________________________________________\n"
     ]
    }
   ],
   "source": [
    "model = Sequential()\n",
    "model.add(Embedding(max_features, embedding_dimensionality, input_length = sequences_length))\n",
    "\n",
    "model.add(Conv1D(nof_filters, kernel_size, padding='valid', activation='relu', strides = 1))\n",
    "model.add(GlobalMaxPooling1D())\n",
    "\n",
    "model.add(Dense(hidden_dims))\n",
    "model.add(Dropout(0.3))\n",
    "model.add(Activation('relu'))\n",
    "\n",
    "model.add(Dense(num_labels))\n",
    "model.add(Activation('softmax'))\n",
    "\n",
    "model.summary()\n",
    "model.compile(loss='categorical_crossentropy', optimizer='adam', #'sgd', 'adam', 'RMSprop', 'Adagrad'\n",
    "                   metrics = [metrics.categorical_accuracy])"
   ]
  },
  {
   "cell_type": "code",
   "execution_count": 40,
   "metadata": {},
   "outputs": [],
   "source": [
    "checkpoint_filepath = './checkpoints'\n",
    "model_checkpoint_callback = keras.callbacks.ModelCheckpoint(\n",
    "    filepath=checkpoint_filepath,\n",
    "    save_weights_only=True,\n",
    "    monitor='val_categorical_accuracy',\n",
    "    verbose=True,\n",
    "    mode='max',\n",
    "    save_best_only=True\n",
    ")"
   ]
  },
  {
   "cell_type": "code",
   "execution_count": 41,
   "metadata": {},
   "outputs": [
    {
     "name": "stdout",
     "output_type": "stream",
     "text": [
      "Epoch 1/20\n",
      "162/164 [============================>.] - ETA: 0s - loss: 2.7043 - categorical_accuracy: 0.1977\n",
      "Epoch 00001: val_categorical_accuracy improved from -inf to 0.47663, saving model to ./checkpoints\n",
      "164/164 [==============================] - 8s 41ms/step - loss: 2.6970 - categorical_accuracy: 0.1999 - val_loss: 1.7475 - val_categorical_accuracy: 0.4766\n",
      "Epoch 2/20\n",
      "163/164 [============================>.] - ETA: 0s - loss: 1.5423 - categorical_accuracy: 0.5309\n",
      "Epoch 00002: val_categorical_accuracy improved from 0.47663 to 0.56322, saving model to ./checkpoints\n",
      "164/164 [==============================] - 7s 43ms/step - loss: 1.5426 - categorical_accuracy: 0.5307 - val_loss: 1.4580 - val_categorical_accuracy: 0.5632\n",
      "Epoch 3/20\n",
      "163/164 [============================>.] - ETA: 0s - loss: 1.2109 - categorical_accuracy: 0.6344\n",
      "Epoch 00003: val_categorical_accuracy improved from 0.56322 to 0.60000, saving model to ./checkpoints\n",
      "164/164 [==============================] - 8s 48ms/step - loss: 1.2111 - categorical_accuracy: 0.6343 - val_loss: 1.3488 - val_categorical_accuracy: 0.6000\n",
      "Epoch 4/20\n",
      "164/164 [==============================] - ETA: 0s - loss: 0.9705 - categorical_accuracy: 0.7110\n",
      "Epoch 00004: val_categorical_accuracy did not improve from 0.60000\n",
      "164/164 [==============================] - 8s 47ms/step - loss: 0.9705 - categorical_accuracy: 0.7110 - val_loss: 1.3951 - val_categorical_accuracy: 0.5985\n",
      "Epoch 5/20\n",
      "162/164 [============================>.] - ETA: 0s - loss: 0.7777 - categorical_accuracy: 0.7677\n",
      "Epoch 00005: val_categorical_accuracy did not improve from 0.60000\n",
      "164/164 [==============================] - 7s 41ms/step - loss: 0.7796 - categorical_accuracy: 0.7670 - val_loss: 1.4492 - val_categorical_accuracy: 0.5946\n",
      "Epoch 6/20\n",
      "162/164 [============================>.] - ETA: 0s - loss: 0.6541 - categorical_accuracy: 0.8054\n",
      "Epoch 00006: val_categorical_accuracy did not improve from 0.60000\n",
      "164/164 [==============================] - 7s 43ms/step - loss: 0.6564 - categorical_accuracy: 0.8049 - val_loss: 1.5211 - val_categorical_accuracy: 0.5908\n",
      "Epoch 7/20\n",
      "164/164 [==============================] - ETA: 0s - loss: 0.5479 - categorical_accuracy: 0.8325 ETA: 0s - loss: 0.5419 - cate\n",
      "Epoch 00007: val_categorical_accuracy did not improve from 0.60000\n",
      "164/164 [==============================] - 7s 44ms/step - loss: 0.5479 - categorical_accuracy: 0.8325 - val_loss: 1.6150 - val_categorical_accuracy: 0.5709\n",
      "Epoch 8/20\n",
      "163/164 [============================>.] - ETA: 0s - loss: 0.4815 - categorical_accuracy: 0.8512\n",
      "Epoch 00008: val_categorical_accuracy did not improve from 0.60000\n",
      "164/164 [==============================] - 8s 50ms/step - loss: 0.4814 - categorical_accuracy: 0.8513 - val_loss: 1.6861 - val_categorical_accuracy: 0.5693\n",
      "Epoch 9/20\n",
      "162/164 [============================>.] - ETA: 0s - loss: 0.4153 - categorical_accuracy: 0.8735\n",
      "Epoch 00009: val_categorical_accuracy did not improve from 0.60000\n",
      "164/164 [==============================] - 8s 46ms/step - loss: 0.4166 - categorical_accuracy: 0.8731 - val_loss: 1.7869 - val_categorical_accuracy: 0.5663\n",
      "Epoch 10/20\n",
      "163/164 [============================>.] - ETA: 0s - loss: 0.3703 - categorical_accuracy: 0.8821\n",
      "Epoch 00010: val_categorical_accuracy did not improve from 0.60000\n",
      "164/164 [==============================] - 12s 74ms/step - loss: 0.3704 - categorical_accuracy: 0.8819 - val_loss: 1.9318 - val_categorical_accuracy: 0.5640\n",
      "Epoch 11/20\n",
      "163/164 [============================>.] - ETA: 0s - loss: 0.3596 - categorical_accuracy: 0.8844\n",
      "Epoch 00011: val_categorical_accuracy did not improve from 0.60000\n",
      "164/164 [==============================] - 14s 87ms/step - loss: 0.3594 - categorical_accuracy: 0.8844 - val_loss: 1.9052 - val_categorical_accuracy: 0.5525\n",
      "Epoch 12/20\n",
      "162/164 [============================>.] - ETA: 0s - loss: 0.3128 - categorical_accuracy: 0.8991\n",
      "Epoch 00012: val_categorical_accuracy did not improve from 0.60000\n",
      "164/164 [==============================] - 12s 73ms/step - loss: 0.3147 - categorical_accuracy: 0.8988 - val_loss: 2.0263 - val_categorical_accuracy: 0.5517\n",
      "Epoch 13/20\n",
      "163/164 [============================>.] - ETA: 0s - loss: 0.2881 - categorical_accuracy: 0.9059\n",
      "Epoch 00013: val_categorical_accuracy did not improve from 0.60000\n",
      "164/164 [==============================] - 7s 43ms/step - loss: 0.2880 - categorical_accuracy: 0.9059 - val_loss: 2.0449 - val_categorical_accuracy: 0.5410\n",
      "Epoch 14/20\n",
      "163/164 [============================>.] - ETA: 0s - loss: 0.2691 - categorical_accuracy: 0.9112\n",
      "Epoch 00014: val_categorical_accuracy did not improve from 0.60000\n",
      "164/164 [==============================] - 7s 43ms/step - loss: 0.2693 - categorical_accuracy: 0.9111 - val_loss: 2.1824 - val_categorical_accuracy: 0.5295\n",
      "Epoch 15/20\n",
      "162/164 [============================>.] - ETA: 0s - loss: 0.2620 - categorical_accuracy: 0.9091\n",
      "Epoch 00015: val_categorical_accuracy did not improve from 0.60000\n",
      "164/164 [==============================] - 8s 49ms/step - loss: 0.2622 - categorical_accuracy: 0.9088 - val_loss: 2.2752 - val_categorical_accuracy: 0.5356\n",
      "Epoch 16/20\n",
      "163/164 [============================>.] - ETA: 0s - loss: 0.2472 - categorical_accuracy: 0.9147\n",
      "Epoch 00016: val_categorical_accuracy did not improve from 0.60000\n",
      "164/164 [==============================] - 6s 34ms/step - loss: 0.2472 - categorical_accuracy: 0.9147 - val_loss: 2.3222 - val_categorical_accuracy: 0.5287\n",
      "Epoch 17/20\n",
      "163/164 [============================>.] - ETA: 0s - loss: 0.2396 - categorical_accuracy: 0.9193\n",
      "Epoch 00017: val_categorical_accuracy did not improve from 0.60000\n",
      "164/164 [==============================] - 12s 72ms/step - loss: 0.2396 - categorical_accuracy: 0.9193 - val_loss: 2.3768 - val_categorical_accuracy: 0.5295\n",
      "Epoch 18/20\n",
      "163/164 [============================>.] - ETA: 0s - loss: 0.2211 - categorical_accuracy: 0.92 - ETA: 0s - loss: 0.2209 - categorical_accuracy: 0.9220\n",
      "Epoch 00018: val_categorical_accuracy did not improve from 0.60000\n",
      "164/164 [==============================] - 9s 52ms/step - loss: 0.2208 - categorical_accuracy: 0.9220 - val_loss: 2.4448 - val_categorical_accuracy: 0.5287\n",
      "Epoch 19/20\n",
      "163/164 [============================>.] - ETA: 0s - loss: 0.2144 - categorical_accuracy: 0.9260\n",
      "Epoch 00019: val_categorical_accuracy did not improve from 0.60000\n",
      "164/164 [==============================] - 11s 66ms/step - loss: 0.2143 - categorical_accuracy: 0.9260 - val_loss: 2.4541 - val_categorical_accuracy: 0.5211\n",
      "Epoch 20/20\n",
      "163/164 [============================>.] - ETA: 0s - loss: 0.2052 - categorical_accuracy: 0.9266\n",
      "Epoch 00020: val_categorical_accuracy did not improve from 0.60000\n",
      "164/164 [==============================] - 10s 58ms/step - loss: 0.2055 - categorical_accuracy: 0.9264 - val_loss: 2.4772 - val_categorical_accuracy: 0.5295\n"
     ]
    }
   ],
   "source": [
    "history = model.fit(\n",
    "    x_train,\n",
    "    y_train,\n",
    "    batch_size = batch_size,\n",
    "    epochs = nb_epoch,\n",
    "    verbose = True,\n",
    "    validation_split = 0.2,\n",
    "    callbacks=[model_checkpoint_callback]\n",
    ")"
   ]
  },
  {
   "cell_type": "code",
   "execution_count": 44,
   "metadata": {},
   "outputs": [
    {
     "data": {
      "text/plain": [
       "<tensorflow.python.training.tracking.util.CheckpointLoadStatus at 0x7fc8fc520d10>"
      ]
     },
     "execution_count": 44,
     "metadata": {},
     "output_type": "execute_result"
    }
   ],
   "source": [
    "model.load_weights(checkpoint_filepath)"
   ]
  },
  {
   "cell_type": "code",
   "execution_count": 45,
   "metadata": {},
   "outputs": [
    {
     "name": "stdout",
     "output_type": "stream",
     "text": [
      "23/23 [==============================] - 0s 6ms/step - loss: 1.3600 - categorical_accuracy: 0.5848\n",
      "\n",
      "Test categorical_crossentropy: 1.359977126121521\n",
      "Categorical accuracy: 0.5848276019096375\n"
     ]
    }
   ],
   "source": [
    "score = model.evaluate(x_test, y_test, batch_size = batch_size, verbose = True)\n",
    " \n",
    "print('\\nTest categorical_crossentropy:', score[0])\n",
    "print('Categorical accuracy:', score[1])\n"
   ]
  },
  {
   "cell_type": "code",
   "execution_count": 46,
   "metadata": {},
   "outputs": [
    {
     "data": {
      "image/png": "[encoded data removed]",
      "text/plain": [
       "<Figure size 432x288 with 1 Axes>"
      ]
     },
     "metadata": {
      "needs_background": "light"
     },
     "output_type": "display_data"
    }
   ],
   "source": [
    "# summarize history for accuracy\n",
    "import matplotlib.pyplot as plt\n",
    "\n",
    "plt.plot(history.history['categorical_accuracy'])\n",
    "plt.plot(history.history['val_categorical_accuracy'])\n",
    "plt.title('model accuracy')\n",
    "plt.ylabel('classification accuracy')\n",
    "plt.xlabel('epochs')\n",
    "plt.legend(['train', 'test'], loc='upper left')\n",
    "plt.show()"
   ]
  },
  {
   "cell_type": "code",
   "execution_count": 29,
   "metadata": {},
   "outputs": [],
   "source": [
    "model.save('../classifier-microservice/model.h5')"
   ]
  },
  {
   "cell_type": "code",
   "execution_count": 32,
   "metadata": {},
   "outputs": [],
   "source": [
    "with open('../classifier-microservice/tokenizer.pickle', 'wb') as handle:\n",
    "    pickle.dump(tokenizer, handle, protocol=pickle.HIGHEST_PROTOCOL)"
   ]
  },
  {
   "cell_type": "code",
   "execution_count": 47,
   "metadata": {},
   "outputs": [],
   "source": [
    "with open('../classifier-microservice/encoder.pickle', 'wb') as handle:\n",
    "    pickle.dump(encoder, handle, protocol=pickle.HIGHEST_PROTOCOL)"
   ]
  }
 ],
 "metadata": {
  "kernelspec": {
   "display_name": "job_classifier_env",
   "language": "python",
   "name": "job_classifier_env"
  },
  "language_info": {
   "codemirror_mode": {
    "name": "ipython",
    "version": 3
   },
   "file_extension": ".py",
   "mimetype": "text/x-python",
   "name": "python",
   "nbconvert_exporter": "python",
   "pygments_lexer": "ipython3",
   "version": "3.7.4"
  }
 },
 "nbformat": 4,
 "nbformat_minor": 2
}
